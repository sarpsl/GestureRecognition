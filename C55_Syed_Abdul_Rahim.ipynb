{
  "cells": [
    {
      "cell_type": "markdown",
      "metadata": {
        "id": "LwYBFSxzfSm0"
      },
      "source": [
        "# Gesture Recognition\n",
        "In this group project, you are going to build a 3D Conv model that will be able to predict the 5 gestures correctly. Please import the following libraries to get started."
      ]
    },
    {
      "cell_type": "code",
      "execution_count": 34,
      "metadata": {
        "id": "yAotwUfcfSm1"
      },
      "outputs": [],
      "source": [
        "import numpy as np\n",
        "import os\n",
        "from imageio.v2 import imread\n",
        "from skimage.transform import resize\n",
        "import datetime\n",
        "import os\n",
        "import matplotlib.pyplot as plt"
      ]
    },
    {
      "cell_type": "markdown",
      "metadata": {
        "id": "D24Jv6apfSm3"
      },
      "source": [
        "We set the random seed so that the results don't vary drastically."
      ]
    },
    {
      "cell_type": "code",
      "execution_count": 3,
      "metadata": {
        "id": "aiewGHh_fSm3"
      },
      "outputs": [],
      "source": [
        "np.random.seed(30)\n",
        "import random as rn\n",
        "rn.seed(30)\n",
        "from keras import backend as K\n",
        "import tensorflow as tf\n",
        "tf.random.set_seed(30)"
      ]
    },
    {
      "cell_type": "markdown",
      "metadata": {
        "id": "oGLD34vMfSm3"
      },
      "source": [
        "from google.colab import drive\n",
        "drive.mount('/content/gdrive')In this block, you read the folder names for training and validation. You also set the `batch_size` here. Note that you set the batch size in such a way that you are able to use the GPU in full capacity. You keep increasing the batch size until the machine throws an error."
      ]
    },
    {
      "cell_type": "code",
      "execution_count": 5,
      "metadata": {
        "colab": {
          "base_uri": "https://localhost:8080/"
        },
        "id": "qkaxqxbDfSm3",
        "outputId": "1fc18efb-2924-42a1-e325-275aab71f9bf"
      },
      "outputs": [
        {
          "output_type": "stream",
          "name": "stdout",
          "text": [
            "Mounted at /content/gdrive\n"
          ]
        }
      ],
      "source": [
        "from google.colab import drive\n",
        "drive.mount('/content/gdrive')"
      ]
    },
    {
      "cell_type": "code",
      "source": [
        "train_doc = np.random.permutation(open('/content/gdrive/My Drive/Personal/upGrad/MS/Recurrent Neural Networks/Project_data/train.csv').readlines())\n",
        "val_doc = np.random.permutation(open('/content/gdrive/My Drive/Personal/upGrad/MS/Recurrent Neural Networks/Project_data/val.csv').readlines())\n",
        "batch_size = 64 #experiment with the batch size 16, 32, 64"
      ],
      "metadata": {
        "id": "HG7Zs-L-g7LF"
      },
      "execution_count": 6,
      "outputs": []
    },
    {
      "cell_type": "markdown",
      "metadata": {
        "id": "yJtMUnfmfSm4"
      },
      "source": [
        "## Generator\n",
        "This is one of the most important part of the code. The overall structure of the generator has been given. In the generator, you are going to preprocess the images as you have images of 2 different dimensions as well as create a batch of video frames. You have to experiment with `img_idx`, `y`,`z` and normalization such that you get high accuracy."
      ]
    },
    {
      "cell_type": "code",
      "execution_count": 27,
      "metadata": {
        "id": "36MY7krNfSm4"
      },
      "outputs": [],
      "source": [
        "def generator(source_path, folder_list, batch_size, img_idx, shape_h, shape_w):\n",
        "    print( 'Source path = ', source_path, '; batch size =', batch_size)\n",
        "    # img_idx = [1,4,7,10,13,16,19,22,25,28] #create a list of image numbers you want to use for a particular video\n",
        "    while True:\n",
        "        t = np.random.permutation(folder_list)\n",
        "        num_batches = int(len(t)/batch_size) # calculate the number of batches\n",
        "        # left over batches which should be handled separately\n",
        "        leftover_batches = len(t) - num_batches * batch_size\n",
        "\n",
        "        for batch in range(num_batches): # we iterate over the number of batches\n",
        "            batch_data = np.zeros((batch_size, len(img_idx), shape_h, shape_w, 3)) # x is the number of images you use for each video, (y,z) is the final size of the input images and 3 is the number of channels RGB\n",
        "            batch_labels = np.zeros((batch_size,5)) # batch_labels is the one hot representation of the output\n",
        "            for folder in range(batch_size): # iterate over the batch_size\n",
        "                imgs = os.listdir(source_path+'/'+ t[folder + (batch*batch_size)].split(';')[0]) # read all the images in the folder\n",
        "                for idx,item in enumerate(img_idx): #  Iterate iver the frames/images of a folder to read them in\n",
        "                    image = imread(source_path+'/'+ t[folder + (batch*batch_size)].strip().split(';')[0]+'/'+imgs[item]).astype(np.float32)\n",
        "\n",
        "                    #crop the images and resize them. Note that the images are of 2 different shape\n",
        "                    #and the conv3D will throw error if the inputs in a batch have different shapes\n",
        "                    image = resize(image, (shape_h, shape_w))\n",
        "                    batch_data[folder,idx,:,:,0] = (image[:,:,0]) - 104\n",
        "                    batch_data[folder,idx,:,:,1] = (image[:,:,1]) - 117\n",
        "                    batch_data[folder,idx,:,:,2] = (image[:,:,2]) - 123\n",
        "\n",
        "                batch_labels[folder, int(t[folder + (batch*batch_size)].strip().split(';')[2])] = 1\n",
        "            yield batch_data, batch_labels #you yield the batch_data and the batch_labels, remember what does yield do\n",
        "\n",
        "\n",
        "        # write the code for the remaining data points which are left after full batches\n",
        "        # write the code for the remaining data points which are left after full batches\n",
        "        if leftover_batches != 0:\n",
        "            for batch in range(num_batches):\n",
        "                # x is the number of images you use for each video, (y,z) is the final size of the input images and 3 is the number of channels RGB\n",
        "                batch_data = np.zeros((batch_size,len(img_idx),shape_h, shape_w,3))\n",
        "                # batch_labels is the one hot representation of the output: 10 videos with 5 columns as classes\n",
        "                batch_labels = np.zeros((batch_size,5))\n",
        "                for folder in range(batch_size): # iterate over the batch_size\n",
        "                    imgs = os.listdir(source_path +'/'+t[batch * batch_size + folder].split(';')[0])\n",
        "                    for idx,item in enumerate(img_idx): #  Iterate iver the frames/images of a folder to read them in\n",
        "\n",
        "                        image = imageio.imread(source_path +'/'+t[batch * batch_size + folder].split(';')[0] +'/'+imgs[item]).astype(np.float32)\n",
        "                        image = resize(image, (shape_h,shape_w))\n",
        "\n",
        "                        batch_data[folder,idx,:,:,0] = (image[:,:,0]) - 104\n",
        "                        batch_data[folder,idx,:,:,1] = (image[:,:,1]) - 117\n",
        "                        batch_data[folder,idx,:,:,2] = (image[:,:,2]) - 123\n",
        "\n",
        "                    #Fill the one hot encoding stuff where we maintain the label\n",
        "                    batch_labels[folder, int(t[batch * batch_size + folder].split(';')[2])] = 1\n",
        "                yield batch_data, batch_labels #you yield the batch_data and the batch_labels, remember what does yield do\n",
        "\n"
      ]
    },
    {
      "cell_type": "markdown",
      "metadata": {
        "id": "nUEXzkB6fSm4"
      },
      "source": [
        "Note here that a video is represented above in the generator as (number of images, height, width, number of channels). Take this into consideration while creating the model architecture."
      ]
    },
    {
      "cell_type": "code",
      "execution_count": 19,
      "metadata": {
        "id": "vsV9JJxIfSm4",
        "colab": {
          "base_uri": "https://localhost:8080/"
        },
        "outputId": "6b343da7-ba12-4e46-a929-cd7008a2bfd3"
      },
      "outputs": [
        {
          "output_type": "stream",
          "name": "stdout",
          "text": [
            "# training sequences = 663\n",
            "# validation sequences = 100\n",
            "# epochs = 15\n"
          ]
        }
      ],
      "source": [
        "curr_dt_time = datetime.datetime.now()\n",
        "# train_path = '/notebooks/storage/Final_data/Collated_training/train'\n",
        "# val_path = '/notebooks/storage/Final_data/Collated_training/val'\n",
        "train_path = '/content/gdrive/My Drive/Personal/upGrad/MS/Recurrent Neural Networks/Project_data/train'\n",
        "val_path = '/content/gdrive/My Drive/Personal/upGrad/MS/Recurrent Neural Networks/Project_data/val'\n",
        "num_train_sequences = len(train_doc)\n",
        "print('# training sequences =', num_train_sequences)\n",
        "num_val_sequences = len(val_doc)\n",
        "print('# validation sequences =', num_val_sequences)\n",
        "num_epochs = 15 # choose the number of epochs\n",
        "print ('# epochs =', num_epochs)"
      ]
    },
    {
      "cell_type": "code",
      "source": [
        "img_idx = list(range(1,30,3))\n",
        "shape_h = 50\n",
        "shape_w = 50\n",
        "batch_size = 1\n",
        "test_gen = generator(train_path, train_doc, batch_size, img_idx, shape_h, shape_w)\n",
        "d = next(test_gen)[0]"
      ],
      "metadata": {
        "colab": {
          "base_uri": "https://localhost:8080/"
        },
        "id": "i26PWoagGCPz",
        "outputId": "b6458f6e-2bc1-4f7f-9049-2cb211739d78"
      },
      "execution_count": 28,
      "outputs": [
        {
          "output_type": "stream",
          "name": "stdout",
          "text": [
            "Source path =  /content/gdrive/My Drive/Personal/upGrad/MS/Recurrent Neural Networks/Project_data/train ; batch size = 1\n"
          ]
        }
      ]
    },
    {
      "cell_type": "code",
      "source": [
        "fig, axes = plt.subplots(nrows=1, ncols=2)\n",
        "plt.imshow(d[0,9,:,:,:])\n",
        "# axes[1].imshow(d[3,15,:,:,:])"
      ],
      "metadata": {
        "colab": {
          "base_uri": "https://localhost:8080/",
          "height": 470
        },
        "id": "qxU9V0cROUeS",
        "outputId": "8c254130-0fc8-4f4f-9b50-422b973391a4"
      },
      "execution_count": 41,
      "outputs": [
        {
          "output_type": "stream",
          "name": "stderr",
          "text": [
            "WARNING:matplotlib.image:Clipping input data to the valid range for imshow with RGB data ([0..1] for floats or [0..255] for integers).\n"
          ]
        },
        {
          "output_type": "execute_result",
          "data": {
            "text/plain": [
              "<matplotlib.image.AxesImage at 0x78efe8d79540>"
            ]
          },
          "metadata": {},
          "execution_count": 41
        },
        {
          "output_type": "display_data",
          "data": {
            "text/plain": [
              "<Figure size 640x480 with 2 Axes>"
            ],
            "image/png": "[encoded data removed]"
          },
          "metadata": {}
        }
      ]
    },
    {
      "cell_type": "markdown",
      "metadata": {
        "id": "-wnAHOoOfSm4"
      },
      "source": [
        "## Model\n",
        "Here you make the model using different functionalities that Keras provides. Remember to use `Conv3D` and `MaxPooling3D` and not `Conv2D` and `Maxpooling2D` for a 3D convolution model. You would want to use `TimeDistributed` while building a Conv2D + RNN model. Also remember that the last layer is the softmax. Design the network in such a way that the model is able to give good accuracy on the least number of parameters so that it can fit in the memory of the webcam."
      ]
    },
    {
      "cell_type": "code",
      "execution_count": 46,
      "metadata": {
        "id": "hyDKgAk7fSm5"
      },
      "outputs": [],
      "source": [
        "from keras.models import Sequential, Model\n",
        "from keras.layers import Dense, GRU, Flatten, TimeDistributed, Flatten, BatchNormalization, Activation, Dropout\n",
        "from keras.layers import Conv3D, MaxPooling3D\n",
        "from keras.callbacks import ModelCheckpoint, ReduceLROnPlateau\n",
        "from keras import optimizers"
      ]
    },
    {
      "cell_type": "code",
      "source": [
        "# function to create 3D Model, compile, print summary and return\n",
        "def create_model(frames, image_height, image_width, num_classes):\n",
        "        model = Sequential()\n",
        "\n",
        "        model.add(Conv3D(16, (3,3,3), padding='same', input_shape=(frames, image_height, image_width, 3), activation='relu'))\n",
        "        model.add(MaxPooling3D(pool_size=(2,2,2)))\n",
        "        model.add(BatchNormalization())\n",
        "\n",
        "        model.add(Conv3D(32, (3,3,3), padding='same', activation='relu'))\n",
        "        model.add(MaxPooling3D(pool_size=(2,2,2)))\n",
        "        model.add(BatchNormalization())\n",
        "\n",
        "        model.add(Conv3D(64, (3,3,3), padding='same', activation='relu'))\n",
        "        model.add(MaxPooling3D(pool_size=(2,2,2)))\n",
        "        model.add(BatchNormalization())\n",
        "\n",
        "        model.add(Flatten())\n",
        "\n",
        "        model.add(Dense(128, activation='relu'))\n",
        "        model.add(Dense(num_classes, activation='softmax'))\n",
        "\n",
        "        optimiser = \"adam\"\n",
        "        model.compile(optimizer=optimiser, loss='categorical_crossentropy', metrics=['categorical_accuracy'])\n",
        "        print (model.summary())\n",
        "\n",
        "        return model"
      ],
      "metadata": {
        "id": "FZlgwWWpxKqg"
      },
      "execution_count": 47,
      "outputs": []
    },
    {
      "cell_type": "markdown",
      "metadata": {
        "id": "blVIOOSLfSm5"
      },
      "source": [
        "Now that you have written the model, the next step is to `compile` the model. When you print the `summary` of the model, you'll see the total number of parameters you have to train."
      ]
    },
    {
      "cell_type": "code",
      "execution_count": 48,
      "metadata": {
        "scrolled": true,
        "id": "pbYgj_BpfSm5",
        "colab": {
          "base_uri": "https://localhost:8080/"
        },
        "outputId": "7e357750-e20e-43a3-b699-e9d7ae30425c"
      },
      "outputs": [
        {
          "output_type": "stream",
          "name": "stdout",
          "text": [
            "Model: \"sequential\"\n",
            "_________________________________________________________________\n",
            " Layer (type)                Output Shape              Param #   \n",
            "=================================================================\n",
            " conv3d (Conv3D)             (None, 10, 50, 50, 16)    1312      \n",
            "                                                                 \n",
            " max_pooling3d (MaxPooling3  (None, 5, 25, 25, 16)     0         \n",
            " D)                                                              \n",
            "                                                                 \n",
            " batch_normalization (Batch  (None, 5, 25, 25, 16)     64        \n",
            " Normalization)                                                  \n",
            "                                                                 \n",
            " conv3d_1 (Conv3D)           (None, 5, 25, 25, 32)     13856     \n",
            "                                                                 \n",
            " max_pooling3d_1 (MaxPoolin  (None, 2, 12, 12, 32)     0         \n",
            " g3D)                                                            \n",
            "                                                                 \n",
            " batch_normalization_1 (Bat  (None, 2, 12, 12, 32)     128       \n",
            " chNormalization)                                                \n",
            "                                                                 \n",
            " conv3d_2 (Conv3D)           (None, 2, 12, 12, 64)     55360     \n",
            "                                                                 \n",
            " max_pooling3d_2 (MaxPoolin  (None, 1, 6, 6, 64)       0         \n",
            " g3D)                                                            \n",
            "                                                                 \n",
            " batch_normalization_2 (Bat  (None, 1, 6, 6, 64)       256       \n",
            " chNormalization)                                                \n",
            "                                                                 \n",
            " flatten (Flatten)           (None, 2304)              0         \n",
            "                                                                 \n",
            " dense (Dense)               (None, 128)               295040    \n",
            "                                                                 \n",
            " dense_1 (Dense)             (None, 5)                 645       \n",
            "                                                                 \n",
            "=================================================================\n",
            "Total params: 366661 (1.40 MB)\n",
            "Trainable params: 366437 (1.40 MB)\n",
            "Non-trainable params: 224 (896.00 Byte)\n",
            "_________________________________________________________________\n",
            "None\n"
          ]
        }
      ],
      "source": [
        "img_idx = list(range(1,30,3))\n",
        "frames = len(img_idx)\n",
        "shape_h = 50\n",
        "shape_w = 50\n",
        "batch_size = 1\n",
        "num_classes = 5\n",
        "\n",
        "model = create_model(frames, shape_h, shape_w, num_classes)"
      ]
    },
    {
      "cell_type": "markdown",
      "metadata": {
        "id": "72WezbVvfSm5"
      },
      "source": [
        "Let us create the `train_generator` and the `val_generator` which will be used in `.fit_generator`."
      ]
    },
    {
      "cell_type": "code",
      "execution_count": 49,
      "metadata": {
        "id": "XS3eRTQMfSm5"
      },
      "outputs": [],
      "source": [
        "train_generator = generator(train_path, train_doc, batch_size, img_idx, shape_h, shape_w)\n",
        "val_generator = generator(val_path, val_doc, batch_size, img_idx, shape_h, shape_w)"
      ]
    },
    {
      "cell_type": "code",
      "execution_count": 50,
      "metadata": {
        "id": "GQ_EdougfSm5",
        "colab": {
          "base_uri": "https://localhost:8080/"
        },
        "outputId": "e9bb6726-795e-41e3-c8ce-940abd427f25"
      },
      "outputs": [
        {
          "output_type": "stream",
          "name": "stderr",
          "text": [
            "WARNING:tensorflow:`period` argument is deprecated. Please use `save_freq` to specify the frequency in number of batches seen.\n"
          ]
        }
      ],
      "source": [
        "model_name = 'model_init' + '_' + str(curr_dt_time).replace(' ','').replace(':','_') + '/'\n",
        "\n",
        "if not os.path.exists(model_name):\n",
        "    os.mkdir(model_name)\n",
        "\n",
        "filepath = model_name + 'model-{epoch:05d}-{loss:.5f}-{categorical_accuracy:.5f}-{val_loss:.5f}-{val_categorical_accuracy:.5f}.h5'\n",
        "\n",
        "checkpoint = ModelCheckpoint(filepath, monitor='val_loss', verbose=1, save_best_only=False, save_weights_only=False, mode='auto', period=1)\n",
        "\n",
        "LR = ReduceLROnPlateau(monitor=\"val_loss\", factor=0.2, patience=5, min_lr=0.001) # write the REducelronplateau code here\n",
        "callbacks_list = [checkpoint, LR]"
      ]
    },
    {
      "cell_type": "markdown",
      "metadata": {
        "id": "9ptY8sRFfSm6"
      },
      "source": [
        "The `steps_per_epoch` and `validation_steps` are used by `fit_generator` to decide the number of next() calls it need to make."
      ]
    },
    {
      "cell_type": "code",
      "execution_count": 51,
      "metadata": {
        "id": "TLg69S5pfSm6"
      },
      "outputs": [],
      "source": [
        "if (num_train_sequences%batch_size) == 0:\n",
        "    steps_per_epoch = int(num_train_sequences/batch_size)\n",
        "else:\n",
        "    steps_per_epoch = (num_train_sequences//batch_size) + 1\n",
        "\n",
        "if (num_val_sequences%batch_size) == 0:\n",
        "    validation_steps = int(num_val_sequences/batch_size)\n",
        "else:\n",
        "    validation_steps = (num_val_sequences//batch_size) + 1"
      ]
    },
    {
      "cell_type": "markdown",
      "metadata": {
        "id": "7Ut5YMGEfSm6"
      },
      "source": [
        "Let us now fit the model. This will start training the model and with the help of the checkpoints, you'll be able to save the model at the end of each epoch."
      ]
    },
    {
      "cell_type": "code",
      "execution_count": 52,
      "metadata": {
        "id": "AAukElrPfSm6",
        "colab": {
          "base_uri": "https://localhost:8080/"
        },
        "outputId": "bde51969-2835-49ec-85f7-94d5ab8c6502"
      },
      "outputs": [
        {
          "output_type": "stream",
          "name": "stderr",
          "text": [
            "<ipython-input-52-7f8f9d39394d>:1: UserWarning: `Model.fit_generator` is deprecated and will be removed in a future version. Please use `Model.fit`, which supports generators.\n",
            "  model.fit_generator(train_generator, steps_per_epoch=steps_per_epoch, epochs=num_epochs, verbose=1,\n"
          ]
        },
        {
          "output_type": "stream",
          "name": "stdout",
          "text": [
            "Source path =  /content/gdrive/My Drive/Personal/upGrad/MS/Recurrent Neural Networks/Project_data/train ; batch size = 1\n",
            "Epoch 1/15\n",
            "663/663 [==============================] - ETA: 0s - loss: 1.7302 - categorical_accuracy: 0.4178Source path =  /content/gdrive/My Drive/Personal/upGrad/MS/Recurrent Neural Networks/Project_data/val ; batch size = 1\n",
            "\n",
            "Epoch 1: saving model to model_init_2024-03-0203_30_11.264188/model-00001-1.73018-0.41780-2.56979-0.52000.h5\n",
            "663/663 [==============================] - 1988s 3s/step - loss: 1.7302 - categorical_accuracy: 0.4178 - val_loss: 2.5698 - val_categorical_accuracy: 0.5200 - lr: 0.0010\n",
            "Epoch 2/15\n"
          ]
        },
        {
          "output_type": "stream",
          "name": "stderr",
          "text": [
            "/usr/local/lib/python3.10/dist-packages/keras/src/engine/training.py:3103: UserWarning: You are saving your model as an HDF5 file via `model.save()`. This file format is considered legacy. We recommend using instead the native Keras format, e.g. `model.save('my_model.keras')`.\n",
            "  saving_api.save_model(\n"
          ]
        },
        {
          "output_type": "stream",
          "name": "stdout",
          "text": [
            "663/663 [==============================] - ETA: 0s - loss: 0.9812 - categorical_accuracy: 0.6486\n",
            "Epoch 2: saving model to model_init_2024-03-0203_30_11.264188/model-00002-0.98116-0.64857-1.73873-0.61000.h5\n",
            "663/663 [==============================] - 182s 275ms/step - loss: 0.9812 - categorical_accuracy: 0.6486 - val_loss: 1.7387 - val_categorical_accuracy: 0.6100 - lr: 0.0010\n",
            "Epoch 3/15\n",
            "663/663 [==============================] - ETA: 0s - loss: 0.5640 - categorical_accuracy: 0.7873\n",
            "Epoch 3: saving model to model_init_2024-03-0203_30_11.264188/model-00003-0.56399-0.78733-1.20258-0.67000.h5\n",
            "663/663 [==============================] - 183s 276ms/step - loss: 0.5640 - categorical_accuracy: 0.7873 - val_loss: 1.2026 - val_categorical_accuracy: 0.6700 - lr: 0.0010\n",
            "Epoch 4/15\n",
            "663/663 [==============================] - ETA: 0s - loss: 0.3500 - categorical_accuracy: 0.8808\n",
            "Epoch 4: saving model to model_init_2024-03-0203_30_11.264188/model-00004-0.34996-0.88084-1.33042-0.65000.h5\n",
            "663/663 [==============================] - 182s 275ms/step - loss: 0.3500 - categorical_accuracy: 0.8808 - val_loss: 1.3304 - val_categorical_accuracy: 0.6500 - lr: 0.0010\n",
            "Epoch 5/15\n",
            "663/663 [==============================] - ETA: 0s - loss: 0.2627 - categorical_accuracy: 0.9095\n",
            "Epoch 5: saving model to model_init_2024-03-0203_30_11.264188/model-00005-0.26272-0.90950-1.07107-0.70000.h5\n",
            "663/663 [==============================] - 206s 311ms/step - loss: 0.2627 - categorical_accuracy: 0.9095 - val_loss: 1.0711 - val_categorical_accuracy: 0.7000 - lr: 0.0010\n",
            "Epoch 6/15\n",
            "663/663 [==============================] - ETA: 0s - loss: 0.2302 - categorical_accuracy: 0.9170\n",
            "Epoch 6: saving model to model_init_2024-03-0203_30_11.264188/model-00006-0.23024-0.91704-1.52553-0.63000.h5\n",
            "663/663 [==============================] - 201s 303ms/step - loss: 0.2302 - categorical_accuracy: 0.9170 - val_loss: 1.5255 - val_categorical_accuracy: 0.6300 - lr: 0.0010\n",
            "Epoch 7/15\n",
            "663/663 [==============================] - ETA: 0s - loss: 0.1771 - categorical_accuracy: 0.9336\n",
            "Epoch 7: saving model to model_init_2024-03-0203_30_11.264188/model-00007-0.17707-0.93363-1.40673-0.73000.h5\n",
            "663/663 [==============================] - 198s 298ms/step - loss: 0.1771 - categorical_accuracy: 0.9336 - val_loss: 1.4067 - val_categorical_accuracy: 0.7300 - lr: 0.0010\n",
            "Epoch 8/15\n",
            "663/663 [==============================] - ETA: 0s - loss: 0.0949 - categorical_accuracy: 0.9759\n",
            "Epoch 8: saving model to model_init_2024-03-0203_30_11.264188/model-00008-0.09485-0.97587-1.37231-0.75000.h5\n",
            "663/663 [==============================] - 179s 269ms/step - loss: 0.0949 - categorical_accuracy: 0.9759 - val_loss: 1.3723 - val_categorical_accuracy: 0.7500 - lr: 0.0010\n",
            "Epoch 9/15\n",
            "663/663 [==============================] - ETA: 0s - loss: 0.2727 - categorical_accuracy: 0.9155\n",
            "Epoch 9: saving model to model_init_2024-03-0203_30_11.264188/model-00009-0.27270-0.91554-1.01966-0.78000.h5\n",
            "663/663 [==============================] - 176s 266ms/step - loss: 0.2727 - categorical_accuracy: 0.9155 - val_loss: 1.0197 - val_categorical_accuracy: 0.7800 - lr: 0.0010\n",
            "Epoch 10/15\n",
            "663/663 [==============================] - ETA: 0s - loss: 0.0776 - categorical_accuracy: 0.9789\n",
            "Epoch 10: saving model to model_init_2024-03-0203_30_11.264188/model-00010-0.07764-0.97888-1.44307-0.73000.h5\n",
            "663/663 [==============================] - 190s 286ms/step - loss: 0.0776 - categorical_accuracy: 0.9789 - val_loss: 1.4431 - val_categorical_accuracy: 0.7300 - lr: 0.0010\n",
            "Epoch 11/15\n",
            "663/663 [==============================] - ETA: 0s - loss: 0.2091 - categorical_accuracy: 0.9382\n",
            "Epoch 11: saving model to model_init_2024-03-0203_30_11.264188/model-00011-0.20910-0.93816-1.00660-0.74000.h5\n",
            "663/663 [==============================] - 178s 268ms/step - loss: 0.2091 - categorical_accuracy: 0.9382 - val_loss: 1.0066 - val_categorical_accuracy: 0.7400 - lr: 0.0010\n",
            "Epoch 12/15\n",
            "663/663 [==============================] - ETA: 0s - loss: 0.0910 - categorical_accuracy: 0.9774\n",
            "Epoch 12: saving model to model_init_2024-03-0203_30_11.264188/model-00012-0.09102-0.97738-1.23453-0.77000.h5\n",
            "663/663 [==============================] - 180s 272ms/step - loss: 0.0910 - categorical_accuracy: 0.9774 - val_loss: 1.2345 - val_categorical_accuracy: 0.7700 - lr: 0.0010\n",
            "Epoch 13/15\n",
            "663/663 [==============================] - ETA: 0s - loss: 0.0491 - categorical_accuracy: 0.9879\n",
            "Epoch 13: saving model to model_init_2024-03-0203_30_11.264188/model-00013-0.04915-0.98793-1.62734-0.81000.h5\n",
            "663/663 [==============================] - 180s 271ms/step - loss: 0.0491 - categorical_accuracy: 0.9879 - val_loss: 1.6273 - val_categorical_accuracy: 0.8100 - lr: 0.0010\n",
            "Epoch 14/15\n",
            "663/663 [==============================] - ETA: 0s - loss: 0.1220 - categorical_accuracy: 0.9744\n",
            "Epoch 14: saving model to model_init_2024-03-0203_30_11.264188/model-00014-0.12201-0.97436-2.11628-0.66000.h5\n",
            "663/663 [==============================] - 177s 267ms/step - loss: 0.1220 - categorical_accuracy: 0.9744 - val_loss: 2.1163 - val_categorical_accuracy: 0.6600 - lr: 0.0010\n",
            "Epoch 15/15\n",
            "663/663 [==============================] - ETA: 0s - loss: 0.2239 - categorical_accuracy: 0.9472\n",
            "Epoch 15: saving model to model_init_2024-03-0203_30_11.264188/model-00015-0.22394-0.94721-1.80229-0.71000.h5\n",
            "663/663 [==============================] - 177s 267ms/step - loss: 0.2239 - categorical_accuracy: 0.9472 - val_loss: 1.8023 - val_categorical_accuracy: 0.7100 - lr: 0.0010\n"
          ]
        },
        {
          "output_type": "execute_result",
          "data": {
            "text/plain": [
              "<keras.src.callbacks.History at 0x78efe94d42e0>"
            ]
          },
          "metadata": {},
          "execution_count": 52
        }
      ],
      "source": [
        "model.fit_generator(train_generator, steps_per_epoch=steps_per_epoch, epochs=num_epochs, verbose=1,\n",
        "                    callbacks=callbacks_list, validation_data=val_generator,\n",
        "                    validation_steps=validation_steps, class_weight=None, workers=1, initial_epoch=0)"
      ]
    },
    {
      "cell_type": "markdown",
      "source": [
        "Increasing Shape to 100 x 100"
      ],
      "metadata": {
        "id": "YEYWzvydmy-q"
      }
    },
    {
      "cell_type": "code",
      "execution_count": 53,
      "metadata": {
        "id": "vHHcxwpjfSm6",
        "colab": {
          "base_uri": "https://localhost:8080/"
        },
        "outputId": "88b3de61-0b84-47f1-9d1e-a9030a4b0ac6"
      },
      "outputs": [
        {
          "output_type": "stream",
          "name": "stdout",
          "text": [
            "Model: \"sequential_1\"\n",
            "_________________________________________________________________\n",
            " Layer (type)                Output Shape              Param #   \n",
            "=================================================================\n",
            " conv3d_3 (Conv3D)           (None, 10, 100, 100, 16   1312      \n",
            "                             )                                   \n",
            "                                                                 \n",
            " max_pooling3d_3 (MaxPoolin  (None, 5, 50, 50, 16)     0         \n",
            " g3D)                                                            \n",
            "                                                                 \n",
            " batch_normalization_3 (Bat  (None, 5, 50, 50, 16)     64        \n",
            " chNormalization)                                                \n",
            "                                                                 \n",
            " conv3d_4 (Conv3D)           (None, 5, 50, 50, 32)     13856     \n",
            "                                                                 \n",
            " max_pooling3d_4 (MaxPoolin  (None, 2, 25, 25, 32)     0         \n",
            " g3D)                                                            \n",
            "                                                                 \n",
            " batch_normalization_4 (Bat  (None, 2, 25, 25, 32)     128       \n",
            " chNormalization)                                                \n",
            "                                                                 \n",
            " conv3d_5 (Conv3D)           (None, 2, 25, 25, 64)     55360     \n",
            "                                                                 \n",
            " max_pooling3d_5 (MaxPoolin  (None, 1, 12, 12, 64)     0         \n",
            " g3D)                                                            \n",
            "                                                                 \n",
            " batch_normalization_5 (Bat  (None, 1, 12, 12, 64)     256       \n",
            " chNormalization)                                                \n",
            "                                                                 \n",
            " flatten_1 (Flatten)         (None, 9216)              0         \n",
            "                                                                 \n",
            " dense_2 (Dense)             (None, 128)               1179776   \n",
            "                                                                 \n",
            " dense_3 (Dense)             (None, 5)                 645       \n",
            "                                                                 \n",
            "=================================================================\n",
            "Total params: 1251397 (4.77 MB)\n",
            "Trainable params: 1251173 (4.77 MB)\n",
            "Non-trainable params: 224 (896.00 Byte)\n",
            "_________________________________________________________________\n"
          ]
        },
        {
          "output_type": "stream",
          "name": "stderr",
          "text": [
            "WARNING:tensorflow:`period` argument is deprecated. Please use `save_freq` to specify the frequency in number of batches seen.\n"
          ]
        },
        {
          "output_type": "stream",
          "name": "stdout",
          "text": [
            "None\n",
            "Source path =  /content/gdrive/My Drive/Personal/upGrad/MS/Recurrent Neural Networks/Project_data/train ; batch size = 32\n"
          ]
        },
        {
          "output_type": "stream",
          "name": "stderr",
          "text": [
            "<ipython-input-53-3205db2465d2>:35: UserWarning: `Model.fit_generator` is deprecated and will be removed in a future version. Please use `Model.fit`, which supports generators.\n",
            "  model.fit_generator(train_generator, steps_per_epoch=steps_per_epoch, epochs=num_epochs, verbose=1,\n"
          ]
        },
        {
          "output_type": "stream",
          "name": "stdout",
          "text": [
            "Epoch 1/15\n",
            "18/21 [========================>.....] - ETA: 38s - loss: 1.5031 - categorical_accuracy: 0.5312"
          ]
        },
        {
          "output_type": "stream",
          "name": "stderr",
          "text": [
            "<ipython-input-27-51f937640dd9>:41: DeprecationWarning: Starting with ImageIO v3 the behavior of this function will switch to that of iio.v3.imread. To keep the current behavior (and make this warning disappear) use `import imageio.v2 as imageio` or call `imageio.v2.imread` directly.\n",
            "  image = imageio.imread(source_path +'/'+t[batch * batch_size + folder].split(';')[0] +'/'+imgs[item]).astype(np.float32)\n"
          ]
        },
        {
          "output_type": "stream",
          "name": "stdout",
          "text": [
            "21/21 [==============================] - ETA: 0s - loss: 1.3754 - categorical_accuracy: 0.5610 Source path =  /content/gdrive/My Drive/Personal/upGrad/MS/Recurrent Neural Networks/Project_data/val ; batch size = 32\n",
            "\n",
            "Epoch 1: saving model to model_init_2024-03-0203_30_11.264188/model-00001-1.37543-0.56101-40.87386-0.25781.h5\n",
            "21/21 [==============================] - 323s 15s/step - loss: 1.3754 - categorical_accuracy: 0.5610 - val_loss: 40.8739 - val_categorical_accuracy: 0.2578 - lr: 0.0010\n",
            "Epoch 2/15\n",
            "21/21 [==============================] - ETA: 0s - loss: 0.3172 - categorical_accuracy: 0.8810 \n",
            "Epoch 2: saving model to model_init_2024-03-0203_30_11.264188/model-00002-0.31717-0.88095-27.54822-0.32031.h5\n",
            "21/21 [==============================] - 313s 15s/step - loss: 0.3172 - categorical_accuracy: 0.8810 - val_loss: 27.5482 - val_categorical_accuracy: 0.3203 - lr: 0.0010\n",
            "Epoch 3/15\n",
            "21/21 [==============================] - ETA: 0s - loss: 0.1486 - categorical_accuracy: 0.9539 \n",
            "Epoch 3: saving model to model_init_2024-03-0203_30_11.264188/model-00003-0.14856-0.95387-16.62396-0.40625.h5\n",
            "21/21 [==============================] - 319s 15s/step - loss: 0.1486 - categorical_accuracy: 0.9539 - val_loss: 16.6240 - val_categorical_accuracy: 0.4062 - lr: 0.0010\n",
            "Epoch 4/15\n",
            "21/21 [==============================] - ETA: 0s - loss: 0.0268 - categorical_accuracy: 0.9955 \n",
            "Epoch 4: saving model to model_init_2024-03-0203_30_11.264188/model-00004-0.02678-0.99554-11.67840-0.43750.h5\n",
            "21/21 [==============================] - 310s 15s/step - loss: 0.0268 - categorical_accuracy: 0.9955 - val_loss: 11.6784 - val_categorical_accuracy: 0.4375 - lr: 0.0010\n",
            "Epoch 5/15\n",
            "21/21 [==============================] - ETA: 0s - loss: 0.0193 - categorical_accuracy: 0.9955 \n",
            "Epoch 5: saving model to model_init_2024-03-0203_30_11.264188/model-00005-0.01926-0.99554-6.86958-0.42969.h5\n",
            "21/21 [==============================] - 316s 15s/step - loss: 0.0193 - categorical_accuracy: 0.9955 - val_loss: 6.8696 - val_categorical_accuracy: 0.4297 - lr: 0.0010\n",
            "Epoch 6/15\n",
            "21/21 [==============================] - ETA: 0s - loss: 0.0240 - categorical_accuracy: 0.9926 \n",
            "Epoch 6: saving model to model_init_2024-03-0203_30_11.264188/model-00006-0.02398-0.99256-6.22729-0.39844.h5\n",
            "21/21 [==============================] - 320s 15s/step - loss: 0.0240 - categorical_accuracy: 0.9926 - val_loss: 6.2273 - val_categorical_accuracy: 0.3984 - lr: 0.0010\n",
            "Epoch 7/15\n",
            "21/21 [==============================] - ETA: 0s - loss: 0.0107 - categorical_accuracy: 0.9985 \n",
            "Epoch 7: saving model to model_init_2024-03-0203_30_11.264188/model-00007-0.01072-0.99851-2.87805-0.57812.h5\n",
            "21/21 [==============================] - 314s 15s/step - loss: 0.0107 - categorical_accuracy: 0.9985 - val_loss: 2.8780 - val_categorical_accuracy: 0.5781 - lr: 0.0010\n",
            "Epoch 8/15\n",
            "21/21 [==============================] - ETA: 0s - loss: 0.0044 - categorical_accuracy: 1.0000 \n",
            "Epoch 8: saving model to model_init_2024-03-0203_30_11.264188/model-00008-0.00445-1.00000-1.56234-0.62500.h5\n",
            "21/21 [==============================] - 316s 15s/step - loss: 0.0044 - categorical_accuracy: 1.0000 - val_loss: 1.5623 - val_categorical_accuracy: 0.6250 - lr: 0.0010\n",
            "Epoch 9/15\n",
            "21/21 [==============================] - ETA: 0s - loss: 0.0018 - categorical_accuracy: 1.0000 \n",
            "Epoch 9: saving model to model_init_2024-03-0203_30_11.264188/model-00009-0.00183-1.00000-0.91029-0.75781.h5\n",
            "21/21 [==============================] - 314s 15s/step - loss: 0.0018 - categorical_accuracy: 1.0000 - val_loss: 0.9103 - val_categorical_accuracy: 0.7578 - lr: 0.0010\n",
            "Epoch 10/15\n",
            "21/21 [==============================] - ETA: 0s - loss: 7.8787e-04 - categorical_accuracy: 1.0000 \n",
            "Epoch 10: saving model to model_init_2024-03-0203_30_11.264188/model-00010-0.00079-1.00000-0.64353-0.78906.h5\n",
            "21/21 [==============================] - 308s 15s/step - loss: 7.8787e-04 - categorical_accuracy: 1.0000 - val_loss: 0.6435 - val_categorical_accuracy: 0.7891 - lr: 0.0010\n",
            "Epoch 11/15\n",
            "21/21 [==============================] - ETA: 0s - loss: 9.7328e-04 - categorical_accuracy: 1.0000 \n",
            "Epoch 11: saving model to model_init_2024-03-0203_30_11.264188/model-00011-0.00097-1.00000-0.53023-0.86719.h5\n",
            "21/21 [==============================] - 314s 15s/step - loss: 9.7328e-04 - categorical_accuracy: 1.0000 - val_loss: 0.5302 - val_categorical_accuracy: 0.8672 - lr: 0.0010\n",
            "Epoch 12/15\n",
            "21/21 [==============================] - ETA: 0s - loss: 7.1030e-04 - categorical_accuracy: 1.0000 \n",
            "Epoch 12: saving model to model_init_2024-03-0203_30_11.264188/model-00012-0.00071-1.00000-0.48279-0.89062.h5\n",
            "21/21 [==============================] - 322s 15s/step - loss: 7.1030e-04 - categorical_accuracy: 1.0000 - val_loss: 0.4828 - val_categorical_accuracy: 0.8906 - lr: 0.0010\n",
            "Epoch 13/15\n",
            "21/21 [==============================] - ETA: 0s - loss: 4.2239e-04 - categorical_accuracy: 1.0000 \n",
            "Epoch 13: saving model to model_init_2024-03-0203_30_11.264188/model-00013-0.00042-1.00000-0.50740-0.85938.h5\n",
            "21/21 [==============================] - 342s 16s/step - loss: 4.2239e-04 - categorical_accuracy: 1.0000 - val_loss: 0.5074 - val_categorical_accuracy: 0.8594 - lr: 0.0010\n",
            "Epoch 14/15\n",
            "21/21 [==============================] - ETA: 0s - loss: 3.3075e-04 - categorical_accuracy: 1.0000 \n",
            "Epoch 14: saving model to model_init_2024-03-0203_30_11.264188/model-00014-0.00033-1.00000-0.41252-0.88281.h5\n",
            "21/21 [==============================] - 321s 15s/step - loss: 3.3075e-04 - categorical_accuracy: 1.0000 - val_loss: 0.4125 - val_categorical_accuracy: 0.8828 - lr: 0.0010\n",
            "Epoch 15/15\n",
            "21/21 [==============================] - ETA: 0s - loss: 2.9718e-04 - categorical_accuracy: 1.0000 \n",
            "Epoch 15: saving model to model_init_2024-03-0203_30_11.264188/model-00015-0.00030-1.00000-0.53931-0.83594.h5\n",
            "21/21 [==============================] - 311s 15s/step - loss: 2.9718e-04 - categorical_accuracy: 1.0000 - val_loss: 0.5393 - val_categorical_accuracy: 0.8359 - lr: 0.0010\n"
          ]
        },
        {
          "output_type": "execute_result",
          "data": {
            "text/plain": [
              "<keras.src.callbacks.History at 0x78f00f75bbb0>"
            ]
          },
          "metadata": {},
          "execution_count": 53
        }
      ],
      "source": [
        "img_idx = list(range(1,30,3))\n",
        "frames = len(img_idx)\n",
        "shape_h = 100\n",
        "shape_w = 100\n",
        "batch_size = 32\n",
        "num_classes = 5\n",
        "\n",
        "model = create_model(frames, shape_h, shape_w, num_classes)\n",
        "\n",
        "train_generator = generator(train_path, train_doc, batch_size, img_idx, shape_h, shape_w)\n",
        "val_generator = generator(val_path, val_doc, batch_size, img_idx, shape_h, shape_w)\n",
        "\n",
        "model_name = 'model_init' + '_' + str(curr_dt_time).replace(' ','').replace(':','_') + '/'\n",
        "\n",
        "if not os.path.exists(model_name):\n",
        "    os.mkdir(model_name)\n",
        "\n",
        "filepath = model_name + 'model-{epoch:05d}-{loss:.5f}-{categorical_accuracy:.5f}-{val_loss:.5f}-{val_categorical_accuracy:.5f}.h5'\n",
        "\n",
        "checkpoint = ModelCheckpoint(filepath, monitor='val_loss', verbose=1, save_best_only=False, save_weights_only=False, mode='auto', period=1)\n",
        "\n",
        "LR = ReduceLROnPlateau(monitor=\"val_loss\", factor=0.2, patience=5, min_lr=0.001) # write the REducelronplateau code here\n",
        "callbacks_list = [checkpoint, LR]\n",
        "\n",
        "if (num_train_sequences%batch_size) == 0:\n",
        "    steps_per_epoch = int(num_train_sequences/batch_size)\n",
        "else:\n",
        "    steps_per_epoch = (num_train_sequences//batch_size) + 1\n",
        "\n",
        "if (num_val_sequences%batch_size) == 0:\n",
        "    validation_steps = int(num_val_sequences/batch_size)\n",
        "else:\n",
        "    validation_steps = (num_val_sequences//batch_size) + 1\n",
        "\n",
        "model.fit_generator(train_generator, steps_per_epoch=steps_per_epoch, epochs=num_epochs, verbose=1,\n",
        "                    callbacks=callbacks_list, validation_data=val_generator,\n",
        "                    validation_steps=validation_steps, class_weight=None, workers=1, initial_epoch=0)"
      ]
    },
    {
      "cell_type": "markdown",
      "source": [
        "As the difference between Categorical Accuracy (1.0) and ValidationAccuracy (0.89) is high, we will introduce dropout to overcome overfitting"
      ],
      "metadata": {
        "id": "hS2rAehy2NJO"
      }
    },
    {
      "cell_type": "code",
      "source": [
        "img_idx = list(range(1,30,3))\n",
        "frames = len(img_idx)\n",
        "shape_h = 100\n",
        "shape_w = 100\n",
        "batch_size = 32\n",
        "num_classes = 5\n",
        "\n",
        "model = Sequential()\n",
        "\n",
        "model.add(Conv3D(16, (3,3,3), padding='same', input_shape=(frames, shape_h, shape_w, 3), activation='relu'))\n",
        "model.add(MaxPooling3D(pool_size=(2,2,2)))\n",
        "model.add(Dropout(0.5))\n",
        "model.add(BatchNormalization())\n",
        "\n",
        "model.add(Conv3D(32, (3,3,3), padding='same', activation='relu'))\n",
        "model.add(MaxPooling3D(pool_size=(2,2,2)))\n",
        "model.add(Dropout(0.5))\n",
        "model.add(BatchNormalization())\n",
        "\n",
        "model.add(Conv3D(64, (3,3,3), padding='same', activation='relu'))\n",
        "model.add(MaxPooling3D(pool_size=(2,2,2)))\n",
        "model.add(Dropout(0.5))\n",
        "model.add(BatchNormalization())\n",
        "\n",
        "model.add(Flatten())\n",
        "\n",
        "model.add(Dense(128, activation='relu'))\n",
        "model.add(Dropout(0.5))\n",
        "\n",
        "model.add(Dense(num_classes, activation='softmax'))\n",
        "\n",
        "optimiser = \"adam\"\n",
        "model.compile(optimizer=optimiser, loss='categorical_crossentropy', metrics=['categorical_accuracy'])\n",
        "print (model.summary())\n",
        "\n",
        "train_generator = generator(train_path, train_doc, batch_size, img_idx, shape_h, shape_w)\n",
        "val_generator = generator(val_path, val_doc, batch_size, img_idx, shape_h, shape_w)\n",
        "\n",
        "model_name = 'model_init' + '_' + str(curr_dt_time).replace(' ','').replace(':','_') + '/'\n",
        "\n",
        "if not os.path.exists(model_name):\n",
        "    os.mkdir(model_name)\n",
        "\n",
        "filepath = model_name + 'model-{epoch:05d}-{loss:.5f}-{categorical_accuracy:.5f}-{val_loss:.5f}-{val_categorical_accuracy:.5f}.h5'\n",
        "\n",
        "checkpoint = ModelCheckpoint(filepath, monitor='val_loss', verbose=1, save_best_only=False, save_weights_only=False, mode='auto', period=1)\n",
        "\n",
        "LR = ReduceLROnPlateau(monitor=\"val_loss\", factor=0.2, patience=5, min_lr=0.001) # write the REducelronplateau code here\n",
        "callbacks_list = [checkpoint, LR]\n",
        "\n",
        "if (num_train_sequences%batch_size) == 0:\n",
        "    steps_per_epoch = int(num_train_sequences/batch_size)\n",
        "else:\n",
        "    steps_per_epoch = (num_train_sequences//batch_size) + 1\n",
        "\n",
        "if (num_val_sequences%batch_size) == 0:\n",
        "    validation_steps = int(num_val_sequences/batch_size)\n",
        "else:\n",
        "    validation_steps = (num_val_sequences//batch_size) + 1\n",
        "\n",
        "model.fit_generator(train_generator, steps_per_epoch=steps_per_epoch, epochs=num_epochs, verbose=1,\n",
        "                    callbacks=callbacks_list, validation_data=val_generator,\n",
        "                    validation_steps=validation_steps, class_weight=None, workers=1, initial_epoch=0)"
      ],
      "metadata": {
        "colab": {
          "base_uri": "https://localhost:8080/"
        },
        "id": "hmR_XI-9nnaH",
        "outputId": "508807b0-b9e8-40fb-d59b-b4f9ad0f02a1"
      },
      "execution_count": 55,
      "outputs": [
        {
          "output_type": "stream",
          "name": "stdout",
          "text": [
            "Model: \"sequential_3\"\n",
            "_________________________________________________________________\n",
            " Layer (type)                Output Shape              Param #   \n",
            "=================================================================\n",
            " conv3d_6 (Conv3D)           (None, 10, 100, 100, 16   1312      \n",
            "                             )                                   \n",
            "                                                                 \n",
            " max_pooling3d_6 (MaxPoolin  (None, 5, 50, 50, 16)     0         \n",
            " g3D)                                                            \n",
            "                                                                 \n",
            " dropout (Dropout)           (None, 5, 50, 50, 16)     0         \n",
            "                                                                 \n",
            " batch_normalization_6 (Bat  (None, 5, 50, 50, 16)     64        \n",
            " chNormalization)                                                \n",
            "                                                                 \n",
            " conv3d_7 (Conv3D)           (None, 5, 50, 50, 32)     13856     \n",
            "                                                                 \n",
            " max_pooling3d_7 (MaxPoolin  (None, 2, 25, 25, 32)     0         \n",
            " g3D)                                                            \n",
            "                                                                 \n",
            " dropout_1 (Dropout)         (None, 2, 25, 25, 32)     0         \n",
            "                                                                 \n",
            " batch_normalization_7 (Bat  (None, 2, 25, 25, 32)     128       \n",
            " chNormalization)                                                \n",
            "                                                                 \n",
            " conv3d_8 (Conv3D)           (None, 2, 25, 25, 64)     55360     \n",
            "                                                                 \n",
            " max_pooling3d_8 (MaxPoolin  (None, 1, 12, 12, 64)     0         \n",
            " g3D)                                                            \n",
            "                                                                 \n",
            " dropout_2 (Dropout)         (None, 1, 12, 12, 64)     0         \n",
            "                                                                 \n",
            " batch_normalization_8 (Bat  (None, 1, 12, 12, 64)     256       \n",
            " chNormalization)                                                \n",
            "                                                                 \n",
            " flatten_2 (Flatten)         (None, 9216)              0         \n",
            "                                                                 \n",
            " dense_4 (Dense)             (None, 128)               1179776   \n",
            "                                                                 \n",
            " dropout_3 (Dropout)         (None, 128)               0         \n",
            "                                                                 \n",
            " dense_5 (Dense)             (None, 5)                 645       \n",
            "                                                                 \n",
            "=================================================================\n",
            "Total params: 1251397 (4.77 MB)\n",
            "Trainable params: 1251173 (4.77 MB)\n",
            "Non-trainable params: 224 (896.00 Byte)\n",
            "_________________________________________________________________\n"
          ]
        },
        {
          "output_type": "stream",
          "name": "stderr",
          "text": [
            "WARNING:tensorflow:`period` argument is deprecated. Please use `save_freq` to specify the frequency in number of batches seen.\n"
          ]
        },
        {
          "output_type": "stream",
          "name": "stdout",
          "text": [
            "None\n",
            "Source path =  /content/gdrive/My Drive/Personal/upGrad/MS/Recurrent Neural Networks/Project_data/train ; batch size = 32\n"
          ]
        },
        {
          "output_type": "stream",
          "name": "stderr",
          "text": [
            "<ipython-input-55-e873915e7a50>:61: UserWarning: `Model.fit_generator` is deprecated and will be removed in a future version. Please use `Model.fit`, which supports generators.\n",
            "  model.fit_generator(train_generator, steps_per_epoch=steps_per_epoch, epochs=num_epochs, verbose=1,\n"
          ]
        },
        {
          "output_type": "stream",
          "name": "stdout",
          "text": [
            "Epoch 1/15\n",
            "18/21 [========================>.....] - ETA: 38s - loss: 2.1167 - categorical_accuracy: 0.3038"
          ]
        },
        {
          "output_type": "stream",
          "name": "stderr",
          "text": [
            "<ipython-input-27-51f937640dd9>:41: DeprecationWarning: Starting with ImageIO v3 the behavior of this function will switch to that of iio.v3.imread. To keep the current behavior (and make this warning disappear) use `import imageio.v2 as imageio` or call `imageio.v2.imread` directly.\n",
            "  image = imageio.imread(source_path +'/'+t[batch * batch_size + folder].split(';')[0] +'/'+imgs[item]).astype(np.float32)\n"
          ]
        },
        {
          "output_type": "stream",
          "name": "stdout",
          "text": [
            "21/21 [==============================] - ETA: 0s - loss: 2.0724 - categorical_accuracy: 0.3170 Source path =  /content/gdrive/My Drive/Personal/upGrad/MS/Recurrent Neural Networks/Project_data/val ; batch size = 32\n",
            "\n",
            "Epoch 1: saving model to model_init_2024-03-0203_30_11.264188/model-00001-2.07242-0.31696-16.45743-0.21875.h5\n",
            "21/21 [==============================] - 322s 15s/step - loss: 2.0724 - categorical_accuracy: 0.3170 - val_loss: 16.4574 - val_categorical_accuracy: 0.2188 - lr: 0.0010\n",
            "Epoch 2/15\n",
            "21/21 [==============================] - ETA: 0s - loss: 1.4417 - categorical_accuracy: 0.4598 \n",
            "Epoch 2: saving model to model_init_2024-03-0203_30_11.264188/model-00002-1.44172-0.45982-7.22716-0.25781.h5\n",
            "21/21 [==============================] - 313s 15s/step - loss: 1.4417 - categorical_accuracy: 0.4598 - val_loss: 7.2272 - val_categorical_accuracy: 0.2578 - lr: 0.0010\n",
            "Epoch 3/15\n",
            "21/21 [==============================] - ETA: 0s - loss: 1.2483 - categorical_accuracy: 0.5119 \n",
            "Epoch 3: saving model to model_init_2024-03-0203_30_11.264188/model-00003-1.24834-0.51190-1.63727-0.39062.h5\n",
            "21/21 [==============================] - 306s 15s/step - loss: 1.2483 - categorical_accuracy: 0.5119 - val_loss: 1.6373 - val_categorical_accuracy: 0.3906 - lr: 0.0010\n",
            "Epoch 4/15\n",
            "21/21 [==============================] - ETA: 0s - loss: 1.0432 - categorical_accuracy: 0.5744 \n",
            "Epoch 4: saving model to model_init_2024-03-0203_30_11.264188/model-00004-1.04319-0.57440-1.07247-0.52344.h5\n",
            "21/21 [==============================] - 313s 15s/step - loss: 1.0432 - categorical_accuracy: 0.5744 - val_loss: 1.0725 - val_categorical_accuracy: 0.5234 - lr: 0.0010\n",
            "Epoch 5/15\n",
            "21/21 [==============================] - ETA: 0s - loss: 0.9290 - categorical_accuracy: 0.6146 \n",
            "Epoch 5: saving model to model_init_2024-03-0203_30_11.264188/model-00005-0.92903-0.61458-1.07408-0.57031.h5\n",
            "21/21 [==============================] - 309s 15s/step - loss: 0.9290 - categorical_accuracy: 0.6146 - val_loss: 1.0741 - val_categorical_accuracy: 0.5703 - lr: 0.0010\n",
            "Epoch 6/15\n",
            "21/21 [==============================] - ETA: 0s - loss: 0.8369 - categorical_accuracy: 0.6518 \n",
            "Epoch 6: saving model to model_init_2024-03-0203_30_11.264188/model-00006-0.83692-0.65179-1.71486-0.41406.h5\n",
            "21/21 [==============================] - 313s 15s/step - loss: 0.8369 - categorical_accuracy: 0.6518 - val_loss: 1.7149 - val_categorical_accuracy: 0.4141 - lr: 0.0010\n",
            "Epoch 7/15\n",
            "21/21 [==============================] - ETA: 0s - loss: 0.7821 - categorical_accuracy: 0.6875 \n",
            "Epoch 7: saving model to model_init_2024-03-0203_30_11.264188/model-00007-0.78211-0.68750-2.32368-0.35938.h5\n",
            "21/21 [==============================] - 315s 15s/step - loss: 0.7821 - categorical_accuracy: 0.6875 - val_loss: 2.3237 - val_categorical_accuracy: 0.3594 - lr: 0.0010\n",
            "Epoch 8/15\n",
            "21/21 [==============================] - ETA: 0s - loss: 0.7129 - categorical_accuracy: 0.7143 \n",
            "Epoch 8: saving model to model_init_2024-03-0203_30_11.264188/model-00008-0.71291-0.71429-3.26458-0.31250.h5\n",
            "21/21 [==============================] - 314s 15s/step - loss: 0.7129 - categorical_accuracy: 0.7143 - val_loss: 3.2646 - val_categorical_accuracy: 0.3125 - lr: 0.0010\n",
            "Epoch 9/15\n",
            "21/21 [==============================] - ETA: 0s - loss: 0.6507 - categorical_accuracy: 0.7619 \n",
            "Epoch 9: saving model to model_init_2024-03-0203_30_11.264188/model-00009-0.65067-0.76190-2.91966-0.38281.h5\n",
            "21/21 [==============================] - 314s 15s/step - loss: 0.6507 - categorical_accuracy: 0.7619 - val_loss: 2.9197 - val_categorical_accuracy: 0.3828 - lr: 0.0010\n",
            "Epoch 10/15\n",
            "21/21 [==============================] - ETA: 0s - loss: 0.6359 - categorical_accuracy: 0.7396 \n",
            "Epoch 10: saving model to model_init_2024-03-0203_30_11.264188/model-00010-0.63589-0.73958-4.38409-0.25781.h5\n",
            "21/21 [==============================] - 314s 15s/step - loss: 0.6359 - categorical_accuracy: 0.7396 - val_loss: 4.3841 - val_categorical_accuracy: 0.2578 - lr: 0.0010\n",
            "Epoch 11/15\n",
            "21/21 [==============================] - ETA: 0s - loss: 0.5912 - categorical_accuracy: 0.7842 \n",
            "Epoch 11: saving model to model_init_2024-03-0203_30_11.264188/model-00011-0.59119-0.78423-3.64000-0.29688.h5\n",
            "21/21 [==============================] - 321s 15s/step - loss: 0.5912 - categorical_accuracy: 0.7842 - val_loss: 3.6400 - val_categorical_accuracy: 0.2969 - lr: 0.0010\n",
            "Epoch 12/15\n",
            "21/21 [==============================] - ETA: 0s - loss: 0.5308 - categorical_accuracy: 0.7902 \n",
            "Epoch 12: saving model to model_init_2024-03-0203_30_11.264188/model-00012-0.53079-0.79018-5.33448-0.28125.h5\n",
            "21/21 [==============================] - 316s 15s/step - loss: 0.5308 - categorical_accuracy: 0.7902 - val_loss: 5.3345 - val_categorical_accuracy: 0.2812 - lr: 0.0010\n",
            "Epoch 13/15\n",
            "21/21 [==============================] - ETA: 0s - loss: 0.4578 - categorical_accuracy: 0.8170 \n",
            "Epoch 13: saving model to model_init_2024-03-0203_30_11.264188/model-00013-0.45780-0.81696-4.89826-0.35156.h5\n",
            "21/21 [==============================] - 311s 15s/step - loss: 0.4578 - categorical_accuracy: 0.8170 - val_loss: 4.8983 - val_categorical_accuracy: 0.3516 - lr: 0.0010\n",
            "Epoch 14/15\n",
            "21/21 [==============================] - ETA: 0s - loss: 0.4094 - categorical_accuracy: 0.8408 \n",
            "Epoch 14: saving model to model_init_2024-03-0203_30_11.264188/model-00014-0.40935-0.84077-5.03094-0.31250.h5\n",
            "21/21 [==============================] - 312s 15s/step - loss: 0.4094 - categorical_accuracy: 0.8408 - val_loss: 5.0309 - val_categorical_accuracy: 0.3125 - lr: 0.0010\n",
            "Epoch 15/15\n",
            "21/21 [==============================] - ETA: 0s - loss: 0.4339 - categorical_accuracy: 0.8244 \n",
            "Epoch 15: saving model to model_init_2024-03-0203_30_11.264188/model-00015-0.43391-0.82440-3.78273-0.33594.h5\n",
            "21/21 [==============================] - 364s 18s/step - loss: 0.4339 - categorical_accuracy: 0.8244 - val_loss: 3.7827 - val_categorical_accuracy: 0.3359 - lr: 0.0010\n"
          ]
        },
        {
          "output_type": "execute_result",
          "data": {
            "text/plain": [
              "<keras.src.callbacks.History at 0x78efe9365720>"
            ]
          },
          "metadata": {},
          "execution_count": 55
        }
      ]
    },
    {
      "cell_type": "markdown",
      "source": [
        "Due to the low validation accuracy above,\n",
        "- batch_size = 64\n",
        "- changing the architecture to start with 32 going into 256\n",
        "- ReduceLROnPlateau"
      ],
      "metadata": {
        "id": "lakRzPt0NA8l"
      }
    },
    {
      "cell_type": "code",
      "source": [
        "img_idx = list(range(1,30,3))\n",
        "frames = len(img_idx)\n",
        "shape_h = 100\n",
        "shape_w = 100\n",
        "batch_size = 64\n",
        "num_classes = 5\n",
        "\n",
        "model = Sequential()\n",
        "\n",
        "model.add(Conv3D(32, (3,3,3), padding='same', input_shape=(frames, shape_h, shape_w, 3), activation='relu'))\n",
        "model.add(MaxPooling3D(pool_size=(2,2,2)))\n",
        "model.add(Dropout(0.5))\n",
        "model.add(BatchNormalization())\n",
        "\n",
        "model.add(Conv3D(64, (3,3,3), padding='same', activation='relu'))\n",
        "model.add(MaxPooling3D(pool_size=(2,2,2)))\n",
        "model.add(Dropout(0.5))\n",
        "model.add(BatchNormalization())\n",
        "\n",
        "model.add(Conv3D(128, (3,3,3), padding='same', activation='relu'))\n",
        "model.add(MaxPooling3D(pool_size=(2,2,2)))\n",
        "model.add(Dropout(0.5))\n",
        "model.add(BatchNormalization())\n",
        "\n",
        "model.add(Flatten())\n",
        "\n",
        "model.add(Dense(256, activation='relu'))\n",
        "model.add(Dropout(0.5))\n",
        "\n",
        "model.add(Dense(num_classes, activation='softmax'))\n",
        "\n",
        "optimiser = \"adam\"\n",
        "model.compile(optimizer=optimiser, loss='categorical_crossentropy', metrics=['categorical_accuracy'])\n",
        "print (model.summary())\n",
        "\n",
        "train_generator = generator(train_path, train_doc, batch_size, img_idx, shape_h, shape_w)\n",
        "val_generator = generator(val_path, val_doc, batch_size, img_idx, shape_h, shape_w)\n",
        "\n",
        "model_name = 'model_init' + '_' + str(curr_dt_time).replace(' ','').replace(':','_') + '/'\n",
        "\n",
        "if not os.path.exists(model_name):\n",
        "    os.mkdir(model_name)\n",
        "\n",
        "filepath = model_name + 'model-{epoch:05d}-{loss:.5f}-{categorical_accuracy:.5f}-{val_loss:.5f}-{val_categorical_accuracy:.5f}.h5'\n",
        "\n",
        "checkpoint = ModelCheckpoint(filepath, monitor='val_loss', verbose=1, save_best_only=False, save_weights_only=False, mode='auto', period=1)\n",
        "\n",
        "LR = ReduceLROnPlateau(monitor=\"val_loss\", factor=0.5, patience=3, min_lr=1e-5) # write the REducelronplateau code here\n",
        "callbacks_list = [checkpoint, LR]\n",
        "\n",
        "if (num_train_sequences%batch_size) == 0:\n",
        "    steps_per_epoch = int(num_train_sequences/batch_size)\n",
        "else:\n",
        "    steps_per_epoch = (num_train_sequences//batch_size) + 1\n",
        "\n",
        "if (num_val_sequences%batch_size) == 0:\n",
        "    validation_steps = int(num_val_sequences/batch_size)\n",
        "else:\n",
        "    validation_steps = (num_val_sequences//batch_size) + 1\n",
        "\n",
        "history = model.fit_generator(train_generator, steps_per_epoch=steps_per_epoch, epochs=num_epochs, verbose=1,\n",
        "                    callbacks=callbacks_list, validation_data=val_generator,\n",
        "                    validation_steps=validation_steps, class_weight=None, workers=1, initial_epoch=0)"
      ],
      "metadata": {
        "colab": {
          "base_uri": "https://localhost:8080/"
        },
        "id": "cJ-gaR6o69-8",
        "outputId": "c8edc076-ebb3-40fa-9023-188bf59e85f2"
      },
      "execution_count": 56,
      "outputs": [
        {
          "output_type": "stream",
          "name": "stdout",
          "text": [
            "Model: \"sequential_4\"\n",
            "_________________________________________________________________\n",
            " Layer (type)                Output Shape              Param #   \n",
            "=================================================================\n",
            " conv3d_9 (Conv3D)           (None, 10, 100, 100, 32   2624      \n",
            "                             )                                   \n",
            "                                                                 \n",
            " max_pooling3d_9 (MaxPoolin  (None, 5, 50, 50, 32)     0         \n",
            " g3D)                                                            \n",
            "                                                                 \n",
            " dropout_4 (Dropout)         (None, 5, 50, 50, 32)     0         \n",
            "                                                                 \n",
            " batch_normalization_9 (Bat  (None, 5, 50, 50, 32)     128       \n",
            " chNormalization)                                                \n",
            "                                                                 \n",
            " conv3d_10 (Conv3D)          (None, 5, 50, 50, 64)     55360     \n",
            "                                                                 \n",
            " max_pooling3d_10 (MaxPooli  (None, 2, 25, 25, 64)     0         \n",
            " ng3D)                                                           \n",
            "                                                                 \n",
            " dropout_5 (Dropout)         (None, 2, 25, 25, 64)     0         \n",
            "                                                                 \n",
            " batch_normalization_10 (Ba  (None, 2, 25, 25, 64)     256       \n",
            " tchNormalization)                                               \n",
            "                                                                 \n",
            " conv3d_11 (Conv3D)          (None, 2, 25, 25, 128)    221312    \n",
            "                                                                 \n",
            " max_pooling3d_11 (MaxPooli  (None, 1, 12, 12, 128)    0         \n",
            " ng3D)                                                           \n",
            "                                                                 \n",
            " dropout_6 (Dropout)         (None, 1, 12, 12, 128)    0         \n",
            "                                                                 \n",
            " batch_normalization_11 (Ba  (None, 1, 12, 12, 128)    512       \n",
            " tchNormalization)                                               \n",
            "                                                                 \n",
            " flatten_3 (Flatten)         (None, 18432)             0         \n",
            "                                                                 \n",
            " dense_6 (Dense)             (None, 256)               4718848   \n",
            "                                                                 \n",
            " dropout_7 (Dropout)         (None, 256)               0         \n",
            "                                                                 \n",
            " dense_7 (Dense)             (None, 5)                 1285      \n",
            "                                                                 \n",
            "=================================================================\n",
            "Total params: 5000325 (19.07 MB)\n",
            "Trainable params: 4999877 (19.07 MB)\n",
            "Non-trainable params: 448 (1.75 KB)\n",
            "_________________________________________________________________\n"
          ]
        },
        {
          "output_type": "stream",
          "name": "stderr",
          "text": [
            "WARNING:tensorflow:`period` argument is deprecated. Please use `save_freq` to specify the frequency in number of batches seen.\n"
          ]
        },
        {
          "output_type": "stream",
          "name": "stdout",
          "text": [
            "None\n",
            "Source path =  /content/gdrive/My Drive/Personal/upGrad/MS/Recurrent Neural Networks/Project_data/train ; batch size = 64\n"
          ]
        },
        {
          "output_type": "stream",
          "name": "stderr",
          "text": [
            "<ipython-input-56-87c5200d4b50>:61: UserWarning: `Model.fit_generator` is deprecated and will be removed in a future version. Please use `Model.fit`, which supports generators.\n",
            "  history = model.fit_generator(train_generator, steps_per_epoch=steps_per_epoch, epochs=num_epochs, verbose=1,\n"
          ]
        },
        {
          "output_type": "stream",
          "name": "stdout",
          "text": [
            "Epoch 1/15\n",
            " 8/11 [====================>.........] - ETA: 2:11 - loss: 2.2502 - categorical_accuracy: 0.3145"
          ]
        },
        {
          "output_type": "stream",
          "name": "stderr",
          "text": [
            "<ipython-input-27-51f937640dd9>:41: DeprecationWarning: Starting with ImageIO v3 the behavior of this function will switch to that of iio.v3.imread. To keep the current behavior (and make this warning disappear) use `import imageio.v2 as imageio` or call `imageio.v2.imread` directly.\n",
            "  image = imageio.imread(source_path +'/'+t[batch * batch_size + folder].split(';')[0] +'/'+imgs[item]).astype(np.float32)\n"
          ]
        },
        {
          "output_type": "stream",
          "name": "stdout",
          "text": [
            "11/11 [==============================] - ETA: 0s - loss: 2.1049 - categorical_accuracy: 0.3466 Source path =  /content/gdrive/My Drive/Personal/upGrad/MS/Recurrent Neural Networks/Project_data/val ; batch size = 64\n",
            "\n",
            "Epoch 1: saving model to model_init_2024-03-0203_30_11.264188/model-00001-2.10489-0.34659-39.72845-0.26562.h5\n",
            "11/11 [==============================] - 542s 49s/step - loss: 2.1049 - categorical_accuracy: 0.3466 - val_loss: 39.7285 - val_categorical_accuracy: 0.2656 - lr: 0.0010\n",
            "Epoch 2/15\n"
          ]
        },
        {
          "output_type": "stream",
          "name": "stderr",
          "text": [
            "/usr/local/lib/python3.10/dist-packages/keras/src/engine/training.py:3103: UserWarning: You are saving your model as an HDF5 file via `model.save()`. This file format is considered legacy. We recommend using instead the native Keras format, e.g. `model.save('my_model.keras')`.\n",
            "  saving_api.save_model(\n"
          ]
        },
        {
          "output_type": "stream",
          "name": "stdout",
          "text": [
            "11/11 [==============================] - ETA: 0s - loss: 1.2166 - categorical_accuracy: 0.5668 \n",
            "Epoch 2: saving model to model_init_2024-03-0203_30_11.264188/model-00002-1.21663-0.56676-33.10248-0.23438.h5\n",
            "11/11 [==============================] - 575s 53s/step - loss: 1.2166 - categorical_accuracy: 0.5668 - val_loss: 33.1025 - val_categorical_accuracy: 0.2344 - lr: 0.0010\n",
            "Epoch 3/15\n",
            "11/11 [==============================] - ETA: 0s - loss: 0.9470 - categorical_accuracy: 0.6136 \n",
            "Epoch 3: saving model to model_init_2024-03-0203_30_11.264188/model-00003-0.94702-0.61364-32.01754-0.23438.h5\n",
            "11/11 [==============================] - 577s 53s/step - loss: 0.9470 - categorical_accuracy: 0.6136 - val_loss: 32.0175 - val_categorical_accuracy: 0.2344 - lr: 0.0010\n",
            "Epoch 4/15\n",
            "11/11 [==============================] - ETA: 0s - loss: 0.8625 - categorical_accuracy: 0.6861 \n",
            "Epoch 4: saving model to model_init_2024-03-0203_30_11.264188/model-00004-0.86253-0.68608-23.67972-0.19531.h5\n",
            "11/11 [==============================] - 568s 52s/step - loss: 0.8625 - categorical_accuracy: 0.6861 - val_loss: 23.6797 - val_categorical_accuracy: 0.1953 - lr: 0.0010\n",
            "Epoch 5/15\n",
            "11/11 [==============================] - ETA: 0s - loss: 0.7438 - categorical_accuracy: 0.7116 \n",
            "Epoch 5: saving model to model_init_2024-03-0203_30_11.264188/model-00005-0.74380-0.71165-10.12486-0.28125.h5\n",
            "11/11 [==============================] - 532s 49s/step - loss: 0.7438 - categorical_accuracy: 0.7116 - val_loss: 10.1249 - val_categorical_accuracy: 0.2812 - lr: 0.0010\n",
            "Epoch 6/15\n",
            "11/11 [==============================] - ETA: 0s - loss: 0.5939 - categorical_accuracy: 0.7727 \n",
            "Epoch 6: saving model to model_init_2024-03-0203_30_11.264188/model-00006-0.59390-0.77273-8.38657-0.35156.h5\n",
            "11/11 [==============================] - 559s 52s/step - loss: 0.5939 - categorical_accuracy: 0.7727 - val_loss: 8.3866 - val_categorical_accuracy: 0.3516 - lr: 0.0010\n",
            "Epoch 7/15\n",
            "11/11 [==============================] - ETA: 0s - loss: 0.5438 - categorical_accuracy: 0.7841 \n",
            "Epoch 7: saving model to model_init_2024-03-0203_30_11.264188/model-00007-0.54379-0.78409-6.41927-0.32812.h5\n",
            "11/11 [==============================] - 564s 52s/step - loss: 0.5438 - categorical_accuracy: 0.7841 - val_loss: 6.4193 - val_categorical_accuracy: 0.3281 - lr: 0.0010\n",
            "Epoch 8/15\n",
            "11/11 [==============================] - ETA: 0s - loss: 0.4208 - categorical_accuracy: 0.8352 \n",
            "Epoch 8: saving model to model_init_2024-03-0203_30_11.264188/model-00008-0.42084-0.83523-3.53787-0.46875.h5\n",
            "11/11 [==============================] - 565s 52s/step - loss: 0.4208 - categorical_accuracy: 0.8352 - val_loss: 3.5379 - val_categorical_accuracy: 0.4688 - lr: 0.0010\n",
            "Epoch 9/15\n",
            "11/11 [==============================] - ETA: 0s - loss: 0.3914 - categorical_accuracy: 0.8509 \n",
            "Epoch 9: saving model to model_init_2024-03-0203_30_11.264188/model-00009-0.39137-0.85085-1.40255-0.62500.h5\n",
            "11/11 [==============================] - 567s 52s/step - loss: 0.3914 - categorical_accuracy: 0.8509 - val_loss: 1.4026 - val_categorical_accuracy: 0.6250 - lr: 0.0010\n",
            "Epoch 10/15\n",
            "11/11 [==============================] - ETA: 0s - loss: 0.3906 - categorical_accuracy: 0.8423 \n",
            "Epoch 10: saving model to model_init_2024-03-0203_30_11.264188/model-00010-0.39058-0.84233-0.68133-0.83594.h5\n",
            "11/11 [==============================] - 568s 52s/step - loss: 0.3906 - categorical_accuracy: 0.8423 - val_loss: 0.6813 - val_categorical_accuracy: 0.8359 - lr: 0.0010\n",
            "Epoch 11/15\n",
            "11/11 [==============================] - ETA: 0s - loss: 0.3366 - categorical_accuracy: 0.8807 \n",
            "Epoch 11: saving model to model_init_2024-03-0203_30_11.264188/model-00011-0.33663-0.88068-0.45302-0.87500.h5\n",
            "11/11 [==============================] - 577s 53s/step - loss: 0.3366 - categorical_accuracy: 0.8807 - val_loss: 0.4530 - val_categorical_accuracy: 0.8750 - lr: 0.0010\n",
            "Epoch 12/15\n",
            "11/11 [==============================] - ETA: 0s - loss: 0.2648 - categorical_accuracy: 0.8892 \n",
            "Epoch 12: saving model to model_init_2024-03-0203_30_11.264188/model-00012-0.26485-0.88920-0.50766-0.82812.h5\n",
            "11/11 [==============================] - 572s 53s/step - loss: 0.2648 - categorical_accuracy: 0.8892 - val_loss: 0.5077 - val_categorical_accuracy: 0.8281 - lr: 0.0010\n",
            "Epoch 13/15\n",
            "11/11 [==============================] - ETA: 0s - loss: 0.2210 - categorical_accuracy: 0.9190 \n",
            "Epoch 13: saving model to model_init_2024-03-0203_30_11.264188/model-00013-0.22100-0.91903-1.06920-0.71875.h5\n",
            "11/11 [==============================] - 528s 48s/step - loss: 0.2210 - categorical_accuracy: 0.9190 - val_loss: 1.0692 - val_categorical_accuracy: 0.7188 - lr: 0.0010\n",
            "Epoch 14/15\n",
            "11/11 [==============================] - ETA: 0s - loss: 0.2139 - categorical_accuracy: 0.9219 \n",
            "Epoch 14: saving model to model_init_2024-03-0203_30_11.264188/model-00014-0.21395-0.92188-1.26096-0.73438.h5\n",
            "11/11 [==============================] - 561s 52s/step - loss: 0.2139 - categorical_accuracy: 0.9219 - val_loss: 1.2610 - val_categorical_accuracy: 0.7344 - lr: 0.0010\n",
            "Epoch 15/15\n",
            "11/11 [==============================] - ETA: 0s - loss: 0.1524 - categorical_accuracy: 0.9418 \n",
            "Epoch 15: saving model to model_init_2024-03-0203_30_11.264188/model-00015-0.15244-0.94176-1.34324-0.65625.h5\n",
            "11/11 [==============================] - 565s 52s/step - loss: 0.1524 - categorical_accuracy: 0.9418 - val_loss: 1.3432 - val_categorical_accuracy: 0.6562 - lr: 5.0000e-04\n"
          ]
        }
      ]
    },
    {
      "cell_type": "code",
      "source": [],
      "metadata": {
        "id": "HUkyoQrXOXY_"
      },
      "execution_count": null,
      "outputs": []
    }
  ],
  "metadata": {
    "kernelspec": {
      "display_name": "Python 3",
      "language": "python",
      "name": "python3"
    },
    "language_info": {
      "codemirror_mode": {
        "name": "ipython",
        "version": 3
      },
      "file_extension": ".py",
      "mimetype": "text/x-python",
      "name": "python",
      "nbconvert_exporter": "python",
      "pygments_lexer": "ipython3",
      "version": "3.6.5"
    },
    "colab": {
      "provenance": []
    }
  },
  "nbformat": 4,
  "nbformat_minor": 0
}